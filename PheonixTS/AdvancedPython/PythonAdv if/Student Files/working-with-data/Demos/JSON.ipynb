{
 "cells": [
  {
   "cell_type": "markdown",
   "metadata": {},
   "source": [
    "# JSON\n",
    "JSON is formatted like a Python dict object"
   ]
  },
  {
   "cell_type": "code",
   "execution_count": null,
   "metadata": {
    "collapsed": false
   },
   "outputs": [],
   "source": [
    "weather = {\n",
    "    \"city\" :\n",
    "    { \n",
    "        \"coord\" : { \"lat\" : 41.85, \"lon\" : -87.65 },\n",
    "        \"country\" : \"US\",\n",
    "        \"id\" : 4887398,\n",
    "        \"name\" : \"Chicago\"\n",
    "    },\n",
    "    \"list\" : \n",
    "    [ \n",
    "        { \n",
    "            \"clouds\" : 0,\n",
    "            \"humidity\" : 75,\n",
    "            \"pressure\" : 1013.80,\n",
    "            \"temp\" : { \"max\" : 83.96, \"min\" : 75.10 }\n",
    "        },\n",
    "        { \n",
    "            \"clouds\" : 0,\n",
    "            \"humidity\" : 72,\n",
    "            \"pressure\" : 1012.5,\n",
    "            \"temp\" : { \"max\" : 82.46, \"min\" : 71.06}\n",
    "        }\n",
    "    ]\n",
    "}\n",
    "\n",
    "city_name = weather['city']['name']\n",
    "max_temp_tomorrow = weather['list'][0]['temp']['max']\n",
    "\n",
    "print('The high tomorrow in {} will be {}.'.format(city_name,\n",
    "                                                  max_temp_tomorrow))"
   ]
  },
  {
   "cell_type": "markdown",
   "metadata": {},
   "source": [
    "## Getting JSON from a Feed\n",
    "You will need an API key from http://home.openweathermap.org/"
   ]
  },
  {
   "cell_type": "code",
   "execution_count": null,
   "metadata": {
    "collapsed": false
   },
   "outputs": [],
   "source": [
    "import requests\n",
    "from pprint import pprint #\"pretty prints\" the data in a human-readable way\n",
    "\n",
    "api_key = 'yourapikeyhere'\n",
    "feed = \"http://api.openweathermap.org/data/2.5/forecast/daily?APPID=\" + api_key\n",
    "params = {'id': 4887398, 'mode': 'json', \n",
    "          'units': 'imperial', 'cnt': 2}\n",
    "r = requests.get(feed, params)\n",
    "weather = r.json()\n",
    "\n",
    "city_name = weather['city']['name']\n",
    "max_temp_tomorrow = weather['list'][0]['temp']['max']\n",
    "\n",
    "print(r.url) #prints the URL created using the params\n",
    "print('-' * 50)\n",
    "print('The high tomorrow in {} will be {}.'.format(city_name,\n",
    "                                                  max_temp_tomorrow))\n",
    "print('-' * 50)\n",
    "pprint(weather)"
   ]
  }
 ],
 "metadata": {
  "kernelspec": {
   "display_name": "Python 3",
   "language": "python",
   "name": "python3"
  },
  "language_info": {
   "codemirror_mode": {
    "name": "ipython",
    "version": 3
   },
   "file_extension": ".py",
   "mimetype": "text/x-python",
   "name": "python",
   "nbconvert_exporter": "python",
   "pygments_lexer": "ipython3",
   "version": "3.4.3"
  }
 },
 "nbformat": 4,
 "nbformat_minor": 0
}
